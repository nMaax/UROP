{
 "cells": [
  {
   "cell_type": "code",
   "execution_count": 1,
   "id": "bd549974",
   "metadata": {},
   "outputs": [],
   "source": [
    "%load_ext autoreload\n",
    "%autoreload 2\n",
    "\n",
    "import os\n",
    "os.chdir(\"..\")  # Go up one level to the UROP directory"
   ]
  },
  {
   "cell_type": "code",
   "execution_count": null,
   "id": "6f67c49f",
   "metadata": {},
   "outputs": [],
   "source": [
    "import yaml\n",
    "\n",
    "with open(\"config.yaml\") as stream:\n",
    "    try:\n",
    "        config = yaml.safe_load(stream)\n",
    "    except yaml.YAMLError as exc:\n",
    "        print(exc)\n",
    "\n",
    "batch_size = config[\"batch_size\"]\n",
    "lr = config[\"lr\"]\n",
    "num_epochs = config[\"num_epochs\"]\n",
    "save_every = config[\"save_every\"]\n",
    "save_dir = config[\"save_dir\"]\n",
    "num_workers = config[\"num_workers\"]"
   ]
  },
  {
   "cell_type": "code",
   "execution_count": null,
   "id": "393b3d36",
   "metadata": {},
   "outputs": [],
   "source": [
    "import torch\n",
    "from torch.utils.data import DataLoader\n",
    "from utils import LazyWindowedDataset\n",
    "\n",
    "test_source_dataset = LazyWindowedDataset(\n",
    "    root_dir=\"datasets/BrushlessMotor\",\n",
    "    split=\"test\",\n",
    "    anomaly_type=['normal', 'anomaly'],\n",
    "    domain_type=['source', 'target'],\n",
    "    window_size_ms=100,\n",
    "    stride_ms=50,\n",
    ")\n",
    "test_loader = DataLoader(test_source_dataset, batch_size=batch_size, shuffle=True, num_workers=1, drop_last=True)"
   ]
  },
  {
   "cell_type": "code",
   "execution_count": 6,
   "id": "4e04c846",
   "metadata": {},
   "outputs": [],
   "source": [
    "from models import BaselineAutoencoder\n",
    "from utils import evaluate, load_model_checkpoint\n",
    "\n",
    "device = torch.device(\"cuda\" if torch.cuda.is_available() else \"cpu\")\n",
    "\n",
    "model, _, _, _, _, _ = load_model_checkpoint(\"checkpoints/BrushlessMotorBaseline.pt\", BaselineAutoencoder, optimizer_class=None)\n",
    "criterion = torch.nn.MSELoss()"
   ]
  },
  {
   "cell_type": "markdown",
   "id": "1b3a5542",
   "metadata": {},
   "source": [
    "![alt text](figures/brushlessMotorHighlightedTable.png)"
   ]
  },
  {
   "cell_type": "code",
   "execution_count": 10,
   "id": "a9ff30ce",
   "metadata": {},
   "outputs": [
    {
     "name": "stdout",
     "output_type": "stream",
     "text": [
      "Final loss: 0.8568, AUC: 0.5884\n"
     ]
    }
   ],
   "source": [
    "loss, auc = evaluate(model, test_loader, criterion)\n",
    "print(f\"Final loss: {loss:.4f}, AUC: {auc:.4f}\")"
   ]
  },
  {
   "cell_type": "code",
   "execution_count": 7,
   "id": "9f2eee58",
   "metadata": {},
   "outputs": [
    {
     "name": "stdout",
     "output_type": "stream",
     "text": [
      "Final loss: 0.4075, AUC: 0.6799\n"
     ]
    }
   ],
   "source": [
    "acc_loss, acc_auc = evaluate(model, test_loader, criterion, sensors_to_test=['acc'])\n",
    "print(f\"Final loss: {acc_loss:.4f}, AUC: {acc_auc:.4f}\")"
   ]
  },
  {
   "cell_type": "code",
   "execution_count": 8,
   "id": "0c3e7c44",
   "metadata": {},
   "outputs": [
    {
     "name": "stdout",
     "output_type": "stream",
     "text": [
      "Final loss: 0.2563, AUC: 0.5709\n"
     ]
    }
   ],
   "source": [
    "gyro_loss, gyro_auc = evaluate(model, test_loader, criterion, sensors_to_test=['gyro'])\n",
    "print(f\"Final loss: {gyro_loss:.4f}, AUC: {gyro_auc:.4f}\")"
   ]
  },
  {
   "cell_type": "code",
   "execution_count": 9,
   "id": "e86e4898",
   "metadata": {},
   "outputs": [
    {
     "name": "stdout",
     "output_type": "stream",
     "text": [
      "Final loss: 0.3634, AUC: 0.4804\n"
     ]
    }
   ],
   "source": [
    "mic_loss, mic_auc = evaluate(model, test_loader, criterion, sensors_to_test=['mic'])\n",
    "print(f\"Final loss: {mic_loss:.4f}, AUC: {mic_auc:.4f}\")"
   ]
  },
  {
   "cell_type": "code",
   "execution_count": null,
   "id": "bde91df8",
   "metadata": {},
   "outputs": [],
   "source": []
  }
 ],
 "metadata": {
  "kernelspec": {
   "display_name": "urop",
   "language": "python",
   "name": "python3"
  },
  "language_info": {
   "codemirror_mode": {
    "name": "ipython",
    "version": 3
   },
   "file_extension": ".py",
   "mimetype": "text/x-python",
   "name": "python",
   "nbconvert_exporter": "python",
   "pygments_lexer": "ipython3",
   "version": "3.11.11"
  }
 },
 "nbformat": 4,
 "nbformat_minor": 5
}
