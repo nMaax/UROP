{
 "cells": [
  {
   "cell_type": "code",
   "execution_count": 1,
   "id": "bd549974",
   "metadata": {},
   "outputs": [],
   "source": [
    "%load_ext autoreload\n",
    "%autoreload 2\n",
    "\n",
    "import os\n",
    "os.chdir(\"..\")  # Go up one level to the UROP directory"
   ]
  },
  {
   "cell_type": "code",
   "execution_count": 2,
   "id": "6f67c49f",
   "metadata": {},
   "outputs": [],
   "source": [
    "import yaml\n",
    "\n",
    "with open(\"config.yaml\") as stream:\n",
    "    try:\n",
    "        config = yaml.safe_load(stream)\n",
    "    except yaml.YAMLError as exc:\n",
    "        print(exc)\n",
    "\n",
    "batch_size = config[\"batch_size\"]\n",
    "lr = config[\"lr\"]\n",
    "num_epochs = config[\"num_epochs\"]\n",
    "save_every = config[\"save_every\"]\n",
    "save_dir = config[\"save_dir\"]\n",
    "num_workers = config[\"num_workers\"]"
   ]
  },
  {
   "cell_type": "code",
   "execution_count": 3,
   "id": "393b3d36",
   "metadata": {},
   "outputs": [],
   "source": [
    "import torch\n",
    "from torch.utils.data import DataLoader\n",
    "from src import LazyWindowedDataset\n",
    "\n",
    "test_source_dataset = LazyWindowedDataset(\n",
    "    root_dir=\"datasets/BrushlessMotor\",\n",
    "    split=\"test\",\n",
    "    anomaly_type=['normal', 'anomaly'],\n",
    "    domain_type=['source', 'target'],\n",
    "    window_size_ms=100,\n",
    "    stride_ms=50,\n",
    ")\n",
    "test_loader = DataLoader(test_source_dataset, batch_size=batch_size, shuffle=False, num_workers=1, drop_last=True)"
   ]
  },
  {
   "cell_type": "code",
   "execution_count": 4,
   "id": "4e04c846",
   "metadata": {},
   "outputs": [],
   "source": [
    "from models import BaselineAutoencoder\n",
    "from src import evaluate, load_model_checkpoint\n",
    "\n",
    "device = torch.device(\"cuda\" if torch.cuda.is_available() else \"cpu\")\n",
    "\n",
    "model, _, _, _, _, _, _ = load_model_checkpoint(\"checkpoints/BrushlessMotorBaseline.pt\", BaselineAutoencoder, optimizer_class=None)\n",
    "model.to(device)\n",
    "criterion = torch.nn.MSELoss()"
   ]
  },
  {
   "cell_type": "code",
   "execution_count": 5,
   "id": "50dadb54",
   "metadata": {},
   "outputs": [
    {
     "data": {
      "text/plain": [
       "==========================================================================================\n",
       "Layer (type:depth-idx)                   Output Shape              Param #\n",
       "==========================================================================================\n",
       "BaselineAutoencoder                      [128, 5620]               --\n",
       "├─Sequential: 1-1                        [128, 16]                 --\n",
       "│    └─Linear: 2-1                       [128, 2048]               11,511,808\n",
       "│    └─ReLU: 2-2                         [128, 2048]               --\n",
       "│    └─Linear: 2-3                       [128, 2048]               4,196,352\n",
       "│    └─ReLU: 2-4                         [128, 2048]               --\n",
       "│    └─Linear: 2-5                       [128, 2048]               4,196,352\n",
       "│    └─ReLU: 2-6                         [128, 2048]               --\n",
       "│    └─Linear: 2-7                       [128, 16]                 32,784\n",
       "├─Sequential: 1-2                        [128, 5620]               --\n",
       "│    └─Linear: 2-8                       [128, 2048]               34,816\n",
       "│    └─ReLU: 2-9                         [128, 2048]               --\n",
       "│    └─Linear: 2-10                      [128, 2048]               4,196,352\n",
       "│    └─ReLU: 2-11                        [128, 2048]               --\n",
       "│    └─Linear: 2-12                      [128, 2048]               4,196,352\n",
       "│    └─ReLU: 2-13                        [128, 2048]               --\n",
       "│    └─Linear: 2-14                      [128, 5620]               11,515,380\n",
       "==========================================================================================\n",
       "Total params: 39,880,196\n",
       "Trainable params: 39,880,196\n",
       "Non-trainable params: 0\n",
       "Total mult-adds (Units.GIGABYTES): 5.10\n",
       "==========================================================================================\n",
       "Input size (MB): 2.88\n",
       "Forward/backward pass size (MB): 18.35\n",
       "Params size (MB): 159.52\n",
       "Estimated Total Size (MB): 180.75\n",
       "=========================================================================================="
      ]
     },
     "execution_count": 5,
     "metadata": {},
     "output_type": "execute_result"
    }
   ],
   "source": [
    "from torchinfo import summary\n",
    "summary(model, (batch_size, 5620))"
   ]
  },
  {
   "cell_type": "markdown",
   "id": "1b3a5542",
   "metadata": {},
   "source": [
    "![alt text](figures/brushlessMotorHighlightedTable.png)"
   ]
  },
  {
   "cell_type": "code",
   "execution_count": 5,
   "id": "a9ff30ce",
   "metadata": {},
   "outputs": [
    {
     "name": "stdout",
     "output_type": "stream",
     "text": [
      "Overall S+T | Loss: 0.8567, AUC: 0.5883\n"
     ]
    }
   ],
   "source": [
    "loss, auc = evaluate(model, test_loader, criterion)\n",
    "print(f\"Overall S+T | Loss: {loss:.4f}, AUC: {auc:.4f}\")"
   ]
  },
  {
   "cell_type": "code",
   "execution_count": 6,
   "id": "9f2eee58",
   "metadata": {},
   "outputs": [
    {
     "name": "stdout",
     "output_type": "stream",
     "text": [
      "Acc s+T | Loss: 0.4076, AUC: 0.6800\n"
     ]
    }
   ],
   "source": [
    "acc_loss, acc_auc = evaluate(model, test_loader, criterion, sensors_to_test=['acc'])\n",
    "print(f\"Acc s+T | Loss: {acc_loss:.4f}, AUC: {acc_auc:.4f}\")"
   ]
  },
  {
   "cell_type": "code",
   "execution_count": 7,
   "id": "0c3e7c44",
   "metadata": {},
   "outputs": [
    {
     "name": "stdout",
     "output_type": "stream",
     "text": [
      "Gyro S+T | Loss: 0.2563, AUC: 0.5709\n"
     ]
    }
   ],
   "source": [
    "gyro_loss, gyro_auc = evaluate(model, test_loader, criterion, sensors_to_test=['gyro'])\n",
    "print(f\"Gyro S+T | Loss: {gyro_loss:.4f}, AUC: {gyro_auc:.4f}\")"
   ]
  },
  {
   "cell_type": "code",
   "execution_count": 8,
   "id": "e86e4898",
   "metadata": {},
   "outputs": [
    {
     "name": "stdout",
     "output_type": "stream",
     "text": [
      "Mic S+T | Loss: 0.3634, AUC: 0.4801\n"
     ]
    }
   ],
   "source": [
    "mic_loss, mic_auc = evaluate(model, test_loader, criterion, sensors_to_test=['mic'])\n",
    "print(f\"Mic S+T | Loss: {mic_loss:.4f}, AUC: {mic_auc:.4f}\")"
   ]
  },
  {
   "cell_type": "code",
   "execution_count": null,
   "id": "bde91df8",
   "metadata": {},
   "outputs": [],
   "source": []
  }
 ],
 "metadata": {
  "kernelspec": {
   "display_name": "urop",
   "language": "python",
   "name": "python3"
  },
  "language_info": {
   "codemirror_mode": {
    "name": "ipython",
    "version": 3
   },
   "file_extension": ".py",
   "mimetype": "text/x-python",
   "name": "python",
   "nbconvert_exporter": "python",
   "pygments_lexer": "ipython3",
   "version": "3.11.11"
  }
 },
 "nbformat": 4,
 "nbformat_minor": 5
}
