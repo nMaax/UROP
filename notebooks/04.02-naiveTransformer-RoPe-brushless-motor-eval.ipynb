{
 "cells": [
  {
   "cell_type": "code",
   "execution_count": 1,
   "id": "4955a9e9",
   "metadata": {},
   "outputs": [],
   "source": [
    "%load_ext autoreload\n",
    "%autoreload 2\n",
    "\n",
    "import os\n",
    "os.chdir(\"..\")  # Go up one level to the UROP directory"
   ]
  },
  {
   "cell_type": "code",
   "execution_count": 3,
   "id": "8439a7ea",
   "metadata": {},
   "outputs": [],
   "source": [
    "# Settings\n",
    "TEST_BATCH_SIZE = 128\n",
    "NUM_WORKERS = 4\n",
    "\n",
    "# Dataset hyper-parameters\n",
    "WINDOW_SIZE_MS=100\n",
    "STRIDE_MS=50"
   ]
  },
  {
   "cell_type": "code",
   "execution_count": 4,
   "id": "d8527d05",
   "metadata": {},
   "outputs": [],
   "source": [
    "import torch\n",
    "from torch.utils.data import DataLoader\n",
    "from src import LazyWindowedDataset\n",
    "\n",
    "test_source_dataset = LazyWindowedDataset(\n",
    "    root_dir=\"datasets/BrushlessMotor\",\n",
    "    split=\"test\",\n",
    "    anomaly_type=['normal', 'anomaly'],\n",
    "    domain_type=['source', 'target'],\n",
    "    window_size_ms=WINDOW_SIZE_MS,\n",
    "    stride_ms=STRIDE_MS,\n",
    ")\n",
    "test_loader = DataLoader(test_source_dataset, batch_size=TEST_BATCH_SIZE, shuffle=True, num_workers=NUM_WORKERS, drop_last=True)"
   ]
  },
  {
   "cell_type": "code",
   "execution_count": 5,
   "id": "59b72a23",
   "metadata": {},
   "outputs": [],
   "source": [
    "from models import RoPeTimeSeriesTransformer\n",
    "from src import evaluate, load_model_checkpoint\n",
    "\n",
    "device = torch.device(\"cuda\" if torch.cuda.is_available() else \"cpu\")\n",
    "\n",
    "model, _, _, _, _, _, _ = load_model_checkpoint(\"checkpoints/bm_aerodactyl_RoPeTimeSeriesTransformer_epoch_1.pt\", RoPeTimeSeriesTransformer, optimizer_class=None)\n",
    "model.to(device)\n",
    "criterion = torch.nn.MSELoss()"
   ]
  },
  {
   "cell_type": "code",
   "execution_count": 6,
   "id": "c45790b8",
   "metadata": {},
   "outputs": [
    {
     "name": "stderr",
     "output_type": "stream",
     "text": [
      "Evaluation: 100%|██████████| 251/251 [02:00<00:00,  2.08batch/s]"
     ]
    },
    {
     "name": "stdout",
     "output_type": "stream",
     "text": [
      "Overall S+T | Loss: 0.7745, AUC: 0.4642\n"
     ]
    },
    {
     "name": "stderr",
     "output_type": "stream",
     "text": [
      "\n"
     ]
    }
   ],
   "source": [
    "loss, auc = evaluate(model, test_loader, criterion, merge_strategy='stack', verbose=1)\n",
    "print(f\"Overall S+T | Loss: {loss:.4f}, AUC: {auc:.4f}\")"
   ]
  },
  {
   "cell_type": "code",
   "execution_count": 7,
   "id": "ddbd47c4",
   "metadata": {},
   "outputs": [
    {
     "name": "stderr",
     "output_type": "stream",
     "text": [
      "Evaluation: 100%|██████████| 251/251 [02:04<00:00,  2.01batch/s]"
     ]
    },
    {
     "name": "stdout",
     "output_type": "stream",
     "text": [
      "Acc s+T | Loss: 0.3816, AUC: 0.4726\n"
     ]
    },
    {
     "name": "stderr",
     "output_type": "stream",
     "text": [
      "\n"
     ]
    }
   ],
   "source": [
    "acc_loss, acc_auc = evaluate(model, test_loader, criterion, sensors_to_test=['acc'], merge_strategy='stack', verbose=1)\n",
    "print(f\"Acc s+T | Loss: {acc_loss:.4f}, AUC: {acc_auc:.4f}\")"
   ]
  },
  {
   "cell_type": "code",
   "execution_count": 8,
   "id": "406096eb",
   "metadata": {},
   "outputs": [
    {
     "name": "stderr",
     "output_type": "stream",
     "text": [
      "Evaluation: 100%|██████████| 251/251 [01:54<00:00,  2.19batch/s]"
     ]
    },
    {
     "name": "stdout",
     "output_type": "stream",
     "text": [
      "Gyro S+T | Loss: 0.3699, AUC: 0.5046\n"
     ]
    },
    {
     "name": "stderr",
     "output_type": "stream",
     "text": [
      "\n"
     ]
    }
   ],
   "source": [
    "gyro_loss, gyro_auc = evaluate(model, test_loader, criterion, sensors_to_test=['gyro'], merge_strategy='stack', verbose=1)\n",
    "print(f\"Gyro S+T | Loss: {gyro_loss:.4f}, AUC: {gyro_auc:.4f}\")"
   ]
  },
  {
   "cell_type": "code",
   "execution_count": 9,
   "id": "17e62487",
   "metadata": {},
   "outputs": [
    {
     "name": "stderr",
     "output_type": "stream",
     "text": [
      "Evaluation: 100%|██████████| 251/251 [01:52<00:00,  2.24batch/s]"
     ]
    },
    {
     "name": "stdout",
     "output_type": "stream",
     "text": [
      "Mic S+T | Loss: 0.0611, AUC: 0.5369\n"
     ]
    },
    {
     "name": "stderr",
     "output_type": "stream",
     "text": [
      "\n"
     ]
    }
   ],
   "source": [
    "mic_loss, mic_auc = evaluate(model, test_loader, criterion, sensors_to_test=['mic'], merge_strategy='stack', verbose=1)\n",
    "print(f\"Mic S+T | Loss: {mic_loss:.4f}, AUC: {mic_auc:.4f}\")"
   ]
  }
 ],
 "metadata": {
  "kernelspec": {
   "display_name": "urop",
   "language": "python",
   "name": "python3"
  },
  "language_info": {
   "codemirror_mode": {
    "name": "ipython",
    "version": 3
   },
   "file_extension": ".py",
   "mimetype": "text/x-python",
   "name": "python",
   "nbconvert_exporter": "python",
   "pygments_lexer": "ipython3",
   "version": "3.11.11"
  }
 },
 "nbformat": 4,
 "nbformat_minor": 5
}
